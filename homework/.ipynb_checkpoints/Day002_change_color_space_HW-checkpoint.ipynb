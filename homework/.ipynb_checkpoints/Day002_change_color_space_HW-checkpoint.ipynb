{
 "cells": [
  {
   "cell_type": "code",
   "execution_count": null,
   "metadata": {},
   "outputs": [],
   "source": [
    "import numpy as np\n",
    "import cv2\n",
    "\n",
    "img = cv2.imread('./data/lena.png',cv2.IMREAD_COLOR)\n",
    "img_hsv = cv2.cvtColor(img,cv2.COLOR_BGR2HSV)\n",
    "img_hls = cv2.cvtColor(img,cv2.COLOR_BGR2HLS)\n",
    "img_lab = cv2.cvtColor(img,cv2.COLOR_BGR2LAB)\n",
    "\n",
    "img_all = np.hstack( ( img, img_hsv, img_hls, img_lab ) )\n",
    "\n",
    "cv2.imshow('color_space',img_all)\n",
    "cv2.waitKey(0)\n",
    "cv2.destroyAllWindows()"
   ]
  }
 ],
 "metadata": {
  "kernelspec": {
   "display_name": "Python 3",
   "language": "python",
   "name": "python3"
  },
  "language_info": {
   "codemirror_mode": {
    "name": "ipython",
    "version": 3
   },
   "file_extension": ".py",
   "mimetype": "text/x-python",
   "name": "python",
   "nbconvert_exporter": "python",
   "pygments_lexer": "ipython3",
   "version": "3.7.3"
  }
 },
 "nbformat": 4,
 "nbformat_minor": 2
}
